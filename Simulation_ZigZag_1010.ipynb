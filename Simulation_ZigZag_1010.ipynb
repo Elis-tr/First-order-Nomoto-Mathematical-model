{
 "cells": [
  {
   "cell_type": "code",
   "execution_count": 19,
   "id": "5a1af37f",
   "metadata": {},
   "outputs": [],
   "source": [
    "from scipy.integrate import solve_ivp\n",
    "import numpy as np\n",
    "import pandas as pd\n",
    "import matplotlib.pyplot as plt\n",
    "from IPython.display import display, Latex, Math\n",
    "from scipy.optimize import least_squares\n",
    "import altair as alt\n",
    "from ipywidgets import interactive"
   ]
  },
  {
   "cell_type": "code",
   "execution_count": 20,
   "id": "8f235775",
   "metadata": {},
   "outputs": [],
   "source": [
    "def nomoto_zigzag(t, states, K, T_1, angle=np.deg2rad(10)):\n",
    "    \"\"\"\n",
    "    Simulation model for heading and yaw rate using Nomoto with only K and T_1\n",
    "    Also including an autopilot for ZigZag test:\n",
    "    \"\"\"\n",
    "    \n",
    "    \n",
    "    # states: \n",
    "    psi = states[0]\n",
    "    r = states[1]\n",
    "    \n",
    "    #ZigZag autopilot:\n",
    "    sign=-1\n",
    "    psi_pluss = ((psi>=0) and (psi<angle))\n",
    "    psi_minus = ((psi>=-angle) and (psi<=0))\n",
    "    \n",
    "    if (\n",
    "        (psi_pluss and (r>=0)) |\n",
    "        (psi<-angle) |\n",
    "        (psi_minus and (r>=0))\n",
    "        \n",
    "        \n",
    "    ):\n",
    "        sign=1   \n",
    "    delta_=sign*angle\n",
    "    \n",
    "    #Nomoto equation:\n",
    "    r1d_ = (K*delta_ - r)/T_1 \n",
    "    d_states_dt = np.array([r,r1d_])\n",
    "    \n",
    "    return d_states_dt\n",
    "\n",
    "def simulate_zigzag(K = 0.20, T_1=10.0):\n",
    "\n",
    "    ## Simulation:\n",
    "    \n",
    "    angle=np.deg2rad(10)\n",
    "    states_0 = np.array([0,0])\n",
    "    t = np.linspace(0,60,200)\n",
    "    \n",
    "    sol = solve_ivp(fun = nomoto_zigzag,t_span=[t[0],t[-1]],t_eval=t, y0 = states_0, args=(K,T_1,angle))\n",
    "    psi = sol.y[0,:]\n",
    "    r = sol.y[1,:]\n",
    "    \n",
    "    ## Plotting:\n",
    "    fig,ax=plt.subplots()\n",
    "    ax.plot(t,np.rad2deg(psi));\n",
    "    ax.grid(True)\n",
    "    ax.set_title('Simulation ZigZag%0.0f/%0.0f with Nomoto model' % (np.rad2deg(angle),np.rad2deg(angle)))\n",
    "    ax.set_ylabel('$\\psi$ [deg]')\n",
    "    ax.set_xlabel('time [s]');\n",
    "    ax.set_ylim(-80,80)"
   ]
  },
  {
   "cell_type": "code",
   "execution_count": 21,
   "id": "372a6419",
   "metadata": {},
   "outputs": [
    {
     "data": {
      "application/vnd.jupyter.widget-view+json": {
       "model_id": "dfd58d8be15e443486760ad75043b526",
       "version_major": 2,
       "version_minor": 0
      },
      "text/plain": [
       "interactive(children=(FloatSlider(value=0.2, description='K', max=3.0, min=0.01, step=0.01), FloatSlider(value…"
      ]
     },
     "execution_count": 21,
     "metadata": {},
     "output_type": "execute_result"
    }
   ],
   "source": [
    "#collapse\n",
    "interactive_plot = interactive(simulate_zigzag, K=(0.01, 3.0, 0.01), T_1=(1, 15, 0.1))\n",
    "output = interactive_plot.children[-1]\n",
    "output.layout.height = '1250px'\n",
    "interactive_plot"
   ]
  },
  {
   "cell_type": "code",
   "execution_count": 10,
   "id": "8b8adaa0",
   "metadata": {},
   "outputs": [],
   "source": [
    "# First order Nomoto model equation\n",
    "# https://martinlarsalbert.github.io/blog/simulation/dynamics/manoeuvring/system%20identification/nomoto/2020/08/31/nomoto_equation.html"
   ]
  }
 ],
 "metadata": {
  "kernelspec": {
   "display_name": "Python (kedro-Systemidentification-conda)",
   "language": "python",
   "name": "kedro-systemidentification-conda"
  },
  "language_info": {
   "codemirror_mode": {
    "name": "ipython",
    "version": 3
   },
   "file_extension": ".py",
   "mimetype": "text/x-python",
   "name": "python",
   "nbconvert_exporter": "python",
   "pygments_lexer": "ipython3",
   "version": "3.8.16"
  }
 },
 "nbformat": 4,
 "nbformat_minor": 5
}
